{
 "cells": [
  {
   "cell_type": "markdown",
   "metadata": {},
   "source": [
    "# FAISS DB 생성"
   ]
  },
  {
   "cell_type": "code",
   "execution_count": 16,
   "metadata": {},
   "outputs": [
    {
     "name": "stdout",
     "output_type": "stream",
     "text": [
      "31개의 PDF 파일을 발견했습니다.\n",
      "18개의 TXT 파일을 발견했습니다.\n",
      "총 227개의 문서 로드 완료\n",
      "총 1027개의 청크로 분할 완료\n",
      "벡터 저장소가 'faiss_index' 폴더에 저장되었습니다.\n"
     ]
    }
   ],
   "source": [
    "import os\n",
    "import glob\n",
    "import re\n",
    "from langchain_community.document_loaders import PyPDFLoader, TextLoader\n",
    "from langchain.text_splitter import RecursiveCharacterTextSplitter\n",
    "from langchain_community.embeddings import HuggingFaceEmbeddings\n",
    "from langchain_community.vectorstores import FAISS\n",
    "\n",
    "# PDF 및 TXT 폴더 경로\n",
    "pdf_directory = \"./pdf\"\n",
    "txt_directory = \"./txt\"\n",
    "\n",
    "documents = []\n",
    "\n",
    "# PDF 파일 로드\n",
    "pdf_files = glob.glob(os.path.join(pdf_directory, \"*.pdf\"))\n",
    "print(f\"{len(pdf_files)}개의 PDF 파일을 발견했습니다.\")\n",
    "for pdf_file in pdf_files:\n",
    "    loader = PyPDFLoader(pdf_file)\n",
    "    documents.extend(loader.load())\n",
    "\n",
    "# TXT 파일 로드\n",
    "txt_files = glob.glob(os.path.join(txt_directory, \"*.txt\"))\n",
    "print(f\"{len(txt_files)}개의 TXT 파일을 발견했습니다.\")\n",
    "for txt_file in txt_files:\n",
    "    loader = TextLoader(txt_file, encoding='utf-8')\n",
    "    documents.extend(loader.load())\n",
    "\n",
    "print(f\"총 {len(documents)}개의 문서 로드 완료\")\n",
    "\n",
    "# 텍스트 전처리 함수\n",
    "def clean_text(text: str) -> str:\n",
    "    text = text.replace('\\xa0', ' ')\n",
    "    text = re.sub(r'http\\S+', '', text)\n",
    "    text = re.sub(r'\\s+', ' ', text)\n",
    "    text = re.sub(r'[^\\w\\s.,!?()\\[\\]{}가-힣A-Za-z0-9]', '', text)\n",
    "    text = re.sub(r'(.)\\1{2,}', r'\\1\\1', text) # 중복 문자 정규화\n",
    "    text = re.sub(r'\\([^)]*\\)', '', text) # 괄호 및 내용 제거\n",
    "    return text.strip()\n",
    "\n",
    "# 문서 전처리 적용\n",
    "for i, doc in enumerate(documents):\n",
    "    documents[i].page_content = clean_text(doc.page_content)\n",
    "\n",
    "# 텍스트 청크로 분할\n",
    "text_splitter = RecursiveCharacterTextSplitter(\n",
    "    chunk_size=300,\n",
    "    chunk_overlap=100,\n",
    "    length_function=len,\n",
    ")\n",
    "\n",
    "chunks = text_splitter.split_documents(documents)\n",
    "\n",
    "chunks = [chunk for chunk in chunks if len(chunk.page_content) > 10]  # 빈 청크 제거\n",
    "\n",
    "print(f\"총 {len(chunks)}개의 청크로 분할 완료\")\n",
    "\n",
    "# 임베딩 모델 설정\n",
    "embeddings = HuggingFaceEmbeddings(\n",
    "    model_name=\"jhgan/ko-sroberta-multitask\",\n",
    "    model_kwargs={'device': 'cpu'},\n",
    "    encode_kwargs={'normalize_embeddings': True}\n",
    ")\n",
    "\n",
    "# faiss 벡터 저장소 생성 및 저장\n",
    "vector_store = FAISS.from_documents(chunks, embeddings)\n",
    "\n",
    "# 벡터 저장소 저장 (나중에 재사용할 수 있도록)\n",
    "vector_store.save_local(\"faiss_index\") \n",
    "print(\"벡터 저장소가 'faiss_index' 폴더에 저장되었습니다.\")"
   ]
  },
  {
   "cell_type": "code",
   "execution_count": 18,
   "metadata": {},
   "outputs": [
    {
     "name": "stdout",
     "output_type": "stream",
     "text": [
      "청크 183 31: 2025 여행톡톡. All rights reserved.\n"
     ]
    }
   ],
   "source": [
    "for i, chunk in enumerate(chunks):\n",
    "    if len(chunk.page_content) < 50:\n",
    "        print(f\"청크 {i} {len(chunk.page_content)}: {chunk.page_content}\")\n",
    "    # print(f\"청크 {i} {len(chunk.page_content)}: {chunk.page_content}...\")  # 청크의 처음 50자만 출력"
   ]
  },
  {
   "cell_type": "code",
   "execution_count": 9,
   "metadata": {},
   "outputs": [
    {
     "name": "stdout",
     "output_type": "stream",
     "text": [
      "[(Document(id='0c01d7e8-ea70-4eac-959a-bdcd95dd4431', metadata={'source': './txt/한국과는 달라도 너무 다른, 미국 LA [문화 전반].txt'}, page_content='문화 차이가 있고, 지역별로 또 다른 문화차이가 존재한다. 이 글은 2년 동안 미국에 살면서 몸소 겪은, 개인적으로 생각했을 때 독특하다고 느꼈던 문화들을 적어 내려간 것이기 때문에 개인적인 견해와 해석이 녹아 있다. 분명한 것은 미국에만 있는 문화인지는 알 수 없지만, 한국에서 나에게 익숙했던 것들이 미국에서는 다른 형태로 존재하기 때문에 간혹 나를 당황스럽게도 만들었고 놀라게도 만들었다는 것이다. 나는 이 글이 미국을 경험해 보지 못한 많은 사람들에게 미국 LA를 조금이나마 선행적으로 이해하고 알 수 있는 간접적인 경험이 되길'), 0.80407023), (Document(id='80a73509-b350-4c4e-8d54-54ffeee2739e', metadata={'source': './txt/한국과는 달라도 너무 다른, 미국 LA [문화 전반].txt'}, page_content='나는 2년 전, 한국에서 미국 LA 땅을 처음 밟았다. 나는 그 이후 LA의 한인 타운에서 계속 살았다. 한인타운은 한국의 문화를 많이 가지고 있어서, 다른 지역에서 살고 있는 한인에 비해 문화차이로 인한 어려움을 많이 겪지 않은 편이다. 그럼에도 불구하고 분명히 한국과는 다른 미국만의 문화가 있다. 미국의 독특한 문화는 아닐지라도, 한국에서는 경험하지 못한 색다른 것들이 때로는 나를 당황스럽게도, 때로는 놀랍게도 만들었다. 아마 미국에 오지 않았다면 경험하지 못했을 몇 가지의 이색적인 미국의 문화들을 여러분들과 나누고 싶다. 1.'), 0.8285365), (Document(id='84462a77-a846-49a7-b292-3ba77123ebab', metadata={'producer': 'Skia/PDF m134', 'creator': 'Mozilla/5.0 (Macintosh; Intel Mac OS X 10_15_7) AppleWebKit/537.36 (KHTML, like Gecko) Chrome/134.0.0.0 Safari/537.36', 'creationdate': '2025-03-25T06:34:00+00:00', 'title': '일본 문화 특징: 종교, 음식, 예술, 생활문화, 직장문화 | WeXpats Guide（위엑스패츠 가이드）', 'moddate': '2025-03-25T06:34:00+00:00', 'source': './pdf/일본 문화 특징_ 종교, 음식, 예술, 생활문화, 직장문화 _ WeXpats Guide（위엑스패츠 가이드）.pdf', 'total_pages': 11, 'page': 2, 'page_label': '3'}, page_content='사 , 이벤트와 연결시켜왔습니다 .  계절 감수성이 발달한 일본  세시기 ʼ 와  풍물시 ʼ  참고  2021 년 6 월 24 일 nippon.com  公開から 20 年の再解 読 千と千尋の神 隠 し の謎  해외 문화를 독자적으로 개량 일본에서는 해외의 영향을 받아가며 일본 문화를 독자적으로 개량해왔습니다 . 일본을 대표하는 음식인 라멘이나 카레 , 고로케 등은 해외에서 전해진 음식을 일본인의 입맛에 맞게 변화시킨 요리입니다 .  일본 음식이 된 카레 건축 방면에서는 중국에서 전해진 사원 외에 메이지시대 이후 목공 기술로 서양풍'), 0.8365944), (Document(id='cb3b0500-13a5-4ad1-b586-520d3e4dea35', metadata={'producer': 'Skia/PDF m134', 'creator': 'Mozilla/5.0 (Macintosh; Intel Mac OS X 10_15_7) AppleWebKit/537.36 (KHTML, like Gecko) Chrome/134.0.0.0 Safari/537.36', 'creationdate': '2025-03-20T08:30:04+00:00', 'title': '미국 생활 6년 차 느꼈던 한국과 미국 문화의 차이', 'moddate': '2025-03-20T08:30:04+00:00', 'source': './pdf/미국 생활 6년 차 느꼈던 한국과 미국 문화의 차이.pdf', 'total_pages': 3, 'page': 2, 'page_label': '3'}, page_content='수도 있다. 외국생활을 오래 하게 되면서 그전에는 안 보였던 한국과 외국의 다른 점들이 눈에 들어온다. 어딜 가던 나한 테 맞는 게 있고 안 맞는 게 있다. 단지 나한테 더 맞는 쪽을 알아가고 찾아나가는 것일 뿐. 요즘에는 그렇게 거리를 지나가다 보면 사람들이 대부분 다 무채색의 옷을 입는다. 검은색 아니면 흰색 또는 회색. 그렇지 않을 경우에도 획일화된 패션이다. 패셔너블한 것 같지만 대부분의 사람들이 서로를 모방한 것처럼 비슷하 게 입고 그 안에서 독특함을 찾아보기 어렵다. 다채롭지 않다. 그렇기에 해외에 나가서도 입은 옷'), 0.8728003)]\n"
     ]
    }
   ],
   "source": [
    "# 백터 예시\n",
    "query = '우리나라와 다른 나라의 문화차이'\n",
    "retrieval = vector_store.similarity_search_with_score(query)\n",
    "print(retrieval)"
   ]
  },
  {
   "cell_type": "markdown",
   "metadata": {},
   "source": [
    "# FAISS DB 불러오기"
   ]
  },
  {
   "cell_type": "code",
   "execution_count": 10,
   "metadata": {},
   "outputs": [
    {
     "name": "stdout",
     "output_type": "stream",
     "text": [
      "FAISS 벡터 저장소가 성공적으로 로드되었습니다.\n",
      "[(Document(id='0c01d7e8-ea70-4eac-959a-bdcd95dd4431', metadata={'source': './txt/한국과는 달라도 너무 다른, 미국 LA [문화 전반].txt'}, page_content='문화 차이가 있고, 지역별로 또 다른 문화차이가 존재한다. 이 글은 2년 동안 미국에 살면서 몸소 겪은, 개인적으로 생각했을 때 독특하다고 느꼈던 문화들을 적어 내려간 것이기 때문에 개인적인 견해와 해석이 녹아 있다. 분명한 것은 미국에만 있는 문화인지는 알 수 없지만, 한국에서 나에게 익숙했던 것들이 미국에서는 다른 형태로 존재하기 때문에 간혹 나를 당황스럽게도 만들었고 놀라게도 만들었다는 것이다. 나는 이 글이 미국을 경험해 보지 못한 많은 사람들에게 미국 LA를 조금이나마 선행적으로 이해하고 알 수 있는 간접적인 경험이 되길'), 0.80407023), (Document(id='80a73509-b350-4c4e-8d54-54ffeee2739e', metadata={'source': './txt/한국과는 달라도 너무 다른, 미국 LA [문화 전반].txt'}, page_content='나는 2년 전, 한국에서 미국 LA 땅을 처음 밟았다. 나는 그 이후 LA의 한인 타운에서 계속 살았다. 한인타운은 한국의 문화를 많이 가지고 있어서, 다른 지역에서 살고 있는 한인에 비해 문화차이로 인한 어려움을 많이 겪지 않은 편이다. 그럼에도 불구하고 분명히 한국과는 다른 미국만의 문화가 있다. 미국의 독특한 문화는 아닐지라도, 한국에서는 경험하지 못한 색다른 것들이 때로는 나를 당황스럽게도, 때로는 놀랍게도 만들었다. 아마 미국에 오지 않았다면 경험하지 못했을 몇 가지의 이색적인 미국의 문화들을 여러분들과 나누고 싶다. 1.'), 0.8285365), (Document(id='84462a77-a846-49a7-b292-3ba77123ebab', metadata={'producer': 'Skia/PDF m134', 'creator': 'Mozilla/5.0 (Macintosh; Intel Mac OS X 10_15_7) AppleWebKit/537.36 (KHTML, like Gecko) Chrome/134.0.0.0 Safari/537.36', 'creationdate': '2025-03-25T06:34:00+00:00', 'title': '일본 문화 특징: 종교, 음식, 예술, 생활문화, 직장문화 | WeXpats Guide（위엑스패츠 가이드）', 'moddate': '2025-03-25T06:34:00+00:00', 'source': './pdf/일본 문화 특징_ 종교, 음식, 예술, 생활문화, 직장문화 _ WeXpats Guide（위엑스패츠 가이드）.pdf', 'total_pages': 11, 'page': 2, 'page_label': '3'}, page_content='사 , 이벤트와 연결시켜왔습니다 .  계절 감수성이 발달한 일본  세시기 ʼ 와  풍물시 ʼ  참고  2021 년 6 월 24 일 nippon.com  公開から 20 年の再解 読 千と千尋の神 隠 し の謎  해외 문화를 독자적으로 개량 일본에서는 해외의 영향을 받아가며 일본 문화를 독자적으로 개량해왔습니다 . 일본을 대표하는 음식인 라멘이나 카레 , 고로케 등은 해외에서 전해진 음식을 일본인의 입맛에 맞게 변화시킨 요리입니다 .  일본 음식이 된 카레 건축 방면에서는 중국에서 전해진 사원 외에 메이지시대 이후 목공 기술로 서양풍'), 0.8365944), (Document(id='cb3b0500-13a5-4ad1-b586-520d3e4dea35', metadata={'producer': 'Skia/PDF m134', 'creator': 'Mozilla/5.0 (Macintosh; Intel Mac OS X 10_15_7) AppleWebKit/537.36 (KHTML, like Gecko) Chrome/134.0.0.0 Safari/537.36', 'creationdate': '2025-03-20T08:30:04+00:00', 'title': '미국 생활 6년 차 느꼈던 한국과 미국 문화의 차이', 'moddate': '2025-03-20T08:30:04+00:00', 'source': './pdf/미국 생활 6년 차 느꼈던 한국과 미국 문화의 차이.pdf', 'total_pages': 3, 'page': 2, 'page_label': '3'}, page_content='수도 있다. 외국생활을 오래 하게 되면서 그전에는 안 보였던 한국과 외국의 다른 점들이 눈에 들어온다. 어딜 가던 나한 테 맞는 게 있고 안 맞는 게 있다. 단지 나한테 더 맞는 쪽을 알아가고 찾아나가는 것일 뿐. 요즘에는 그렇게 거리를 지나가다 보면 사람들이 대부분 다 무채색의 옷을 입는다. 검은색 아니면 흰색 또는 회색. 그렇지 않을 경우에도 획일화된 패션이다. 패셔너블한 것 같지만 대부분의 사람들이 서로를 모방한 것처럼 비슷하 게 입고 그 안에서 독특함을 찾아보기 어렵다. 다채롭지 않다. 그렇기에 해외에 나가서도 입은 옷'), 0.8728003)]\n"
     ]
    }
   ],
   "source": [
    "# 저장된 FAISS 벡터 저장소 불러오기\n",
    "vector_store = FAISS.load_local(\"faiss_index\", embeddings, allow_dangerous_deserialization=True)\n",
    "print(\"FAISS 벡터 저장소가 성공적으로 로드되었습니다.\")\n",
    "\n",
    "# 백터 예시\n",
    "query = '우리나라와 다른 나라의 문화차이'\n",
    "retrieval = vector_store.similarity_search_with_score(query)\n",
    "print(retrieval)"
   ]
  },
  {
   "cell_type": "code",
   "execution_count": null,
   "metadata": {},
   "outputs": [],
   "source": []
  }
 ],
 "metadata": {
  "kernelspec": {
   "display_name": "vectordb_env",
   "language": "python",
   "name": "python3"
  },
  "language_info": {
   "codemirror_mode": {
    "name": "ipython",
    "version": 3
   },
   "file_extension": ".py",
   "mimetype": "text/x-python",
   "name": "python",
   "nbconvert_exporter": "python",
   "pygments_lexer": "ipython3",
   "version": "3.9.21"
  }
 },
 "nbformat": 4,
 "nbformat_minor": 2
}
